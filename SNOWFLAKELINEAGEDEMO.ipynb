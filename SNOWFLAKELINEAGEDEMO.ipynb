{
 "metadata": {
  "kernelspec": {
   "display_name": "Python 3 (ipykernel)",
   "language": "python",
   "name": "python3"
  },
  "language_info": {
   "codemirror_mode": {
    "name": "ipython",
    "version": 3
   },
   "file_extension": ".py",
   "mimetype": "text/x-python",
   "name": "python",
   "nbconvert_exporter": "python",
   "pygments_lexer": "ipython3",
   "version": "3.8.19"
  },
  "lastEditStatus": {
   "notebookId": "teqr7u5em66dyz26jmxp",
   "authorId": "67158795500",
   "authorName": "TMANFREDI",
   "authorEmail": "tom.manfredi@snowflake.com",
   "sessionId": "778510fe-034a-43fc-8f33-244ee7806607",
   "lastEditTime": 1746628286403
  }
 },
 "nbformat_minor": 5,
 "nbformat": 4,
 "cells": [
  {
   "cell_type": "markdown",
   "id": "8936de58-b702-4750-80fd-f37201f6c143",
   "metadata": {
    "name": "cell19",
    "collapsed": false
   },
   "source": "## Some housekeeping before we start"
  },
  {
   "cell_type": "code",
   "id": "d69b311b-2903-4f0d-8935-ceea402e6c7f",
   "metadata": {
    "language": "sql",
    "name": "SetContext"
   },
   "outputs": [],
   "source": "USE ROLE ACCOUNTADMIN;\nuse schema ML_LINEAGE_DATABASE.ML_LINEAGE_SCHEMA;",
   "execution_count": null
  },
  {
   "cell_type": "code",
   "id": "ddae29de-eef1-4a65-b3b9-6f731ec4d370",
   "metadata": {
    "language": "python",
    "name": "cell18",
    "collapsed": false,
    "codeCollapsed": true
   },
   "outputs": [],
   "source": "import streamlit as st\nst.image(\"Lineage_title.png\")",
   "execution_count": null
  },
  {
   "cell_type": "markdown",
   "id": "0e065415-5b8b-4e8c-8fa8-3b724794a76a",
   "metadata": {
    "collapsed": false,
    "name": "_INTRO",
    "resultHeight": 682
   },
   "source": "**Agenda**\n1. Intro to Lineage and Use Cases\n2. Lineage Metadata\n    - Lineage Views in ACCOUNT_USAGE\n    - Lineage APIs\n3. Create/Visualize Data Lineage Workflow\n    - Stages, Tables, DTs, Views\n4. Create/Visualize ML Lineage Workflow\n    - Feature Views, Training Data, Models\n5. Wrapup"
  },
  {
   "cell_type": "markdown",
   "id": "6f830f2c-261d-4af9-926e-af48c5a6e60f",
   "metadata": {
    "name": "cell22",
    "collapsed": false
   },
   "source": "### To access the notebooks used in this demo\n\n### https://github.com/sfc-gh-tmanfredi/SnowflakeLineage"
  },
  {
   "cell_type": "code",
   "id": "9691b29e-0541-474c-b5b4-fd67f4ca314b",
   "metadata": {
    "language": "python",
    "name": "cell33",
    "collapsed": false,
    "codeCollapsed": true
   },
   "outputs": [],
   "source": "import streamlit as st\nst.image(\"DataMLLineageonSnowflake.png\")",
   "execution_count": null
  },
  {
   "cell_type": "code",
   "id": "2ca777b2-ce28-458a-bcc7-ca7122e03056",
   "metadata": {
    "language": "python",
    "name": "cell46",
    "collapsed": false,
    "codeCollapsed": true
   },
   "outputs": [],
   "source": "import streamlit as st\nst.image(\"LineageUseCases2.png\")",
   "execution_count": null
  },
  {
   "cell_type": "code",
   "id": "179a1262-4e21-4e6f-acf5-e1cafec8c04e",
   "metadata": {
    "language": "python",
    "name": "cell35",
    "collapsed": false,
    "codeCollapsed": true
   },
   "outputs": [],
   "source": "import streamlit as st\nst.image(\"LineageRelationships.png\")",
   "execution_count": null
  },
  {
   "cell_type": "markdown",
   "id": "eadabe38-e4fc-43b1-b7e1-fb976e5af4cc",
   "metadata": {
    "name": "cell7",
    "collapsed": false
   },
   "source": "### 3 Important sources of lineage info: \n\nQuery History\nhttps://docs.snowflake.com/en/sql-reference/account-usage/query_history\n\nAccess History\nhttps://docs.snowflake.com/en/sql-reference/account-usage/access_history\n\nObject Dependencies\nhttps://docs.snowflake.com/en/sql-reference/account-usage/object_dependencies\n"
  },
  {
   "cell_type": "code",
   "id": "49d4d671-90d5-4547-b142-9ed393847a5f",
   "metadata": {
    "language": "sql",
    "name": "cell23"
   },
   "outputs": [],
   "source": "select * from SNOWFLAKE.ACCOUNT_USAGE.Query_History \nwhere   query_text like 'CREATE OR REPLACE VIEW%'\n and start_time::date > current_date()-7\nlimit 10;",
   "execution_count": null
  },
  {
   "cell_type": "code",
   "id": "37a83f35-80b2-41f7-ab38-beeb2bd67858",
   "metadata": {
    "language": "sql",
    "name": "cell24"
   },
   "outputs": [],
   "source": "select * from snowflake.account_usage.access_history \nwhere user_name = 'TMANFREDI' \nand query_id = '01bc0ae3-0708-325d-0027-57030cc72e0a'\n      \nlimit 100;\n",
   "execution_count": null
  },
  {
   "cell_type": "code",
   "id": "d096cc6a-df29-46f2-8286-8f9bd7d66463",
   "metadata": {
    "language": "sql",
    "name": "cell6"
   },
   "outputs": [],
   "source": "select *\nfrom snowflake.account_usage.object_dependencies \nwhere \n    referenced_object_domain = 'VIEW'\nlimit 10;",
   "execution_count": null
  },
  {
   "cell_type": "code",
   "id": "11440145-f75e-421b-9225-164675cfa971",
   "metadata": {
    "language": "python",
    "name": "cell43",
    "collapsed": false,
    "codeCollapsed": true
   },
   "outputs": [],
   "source": "import streamlit as st\nst.image(\"LineageArchitectureDetail.png\")",
   "execution_count": null
  },
  {
   "cell_type": "code",
   "id": "ce9e75b0-f682-4544-9891-9d977d633186",
   "metadata": {
    "language": "python",
    "name": "cell42"
   },
   "outputs": [],
   "source": "import streamlit as st\nst.image(\"LineageSupportedObjects.png\")",
   "execution_count": null
  },
  {
   "cell_type": "code",
   "id": "dec4f678-04cb-4f1f-90b4-c889e33f0898",
   "metadata": {
    "language": "python",
    "name": "cell45",
    "collapsed": false,
    "codeCollapsed": true
   },
   "outputs": [],
   "source": "import streamlit as st\nst.image(\"LineageConsiderations.png\")",
   "execution_count": null
  },
  {
   "cell_type": "code",
   "id": "96036a7c-c006-4222-aa11-0188cf21846f",
   "metadata": {
    "language": "python",
    "name": "cell2",
    "collapsed": false,
    "codeCollapsed": true
   },
   "outputs": [],
   "source": "import streamlit as st\nst.image(\"DataLineageFlow.png\")",
   "execution_count": null
  },
  {
   "cell_type": "code",
   "id": "4d65f82e-93e4-4558-9f6c-26c911c7bc0a",
   "metadata": {
    "language": "sql",
    "name": "cell10"
   },
   "outputs": [],
   "source": "create or replace table wine_attributes \n(c1 variant);",
   "execution_count": null
  },
  {
   "cell_type": "code",
   "execution_count": 3,
   "id": "2cbb04de-193c-44e1-b400-802e22eb6941",
   "metadata": {
    "collapsed": false,
    "language": "sql",
    "name": "import_source",
    "resultHeight": 0
   },
   "outputs": [],
   "source": "-- Load the raw wine attributes from an internal stage\nCOPY INTO wine_attributes\nFROM @LINEAGE_STAGE\n  FILE_FORMAT=(TYPE=parquet);"
  },
  {
   "cell_type": "code",
   "id": "cfdfcb60-c1eb-4e97-afe3-3aead88bfbef",
   "metadata": {
    "language": "sql",
    "name": "cell8"
   },
   "outputs": [],
   "source": "select * from wine_attributes;",
   "execution_count": null
  },
  {
   "cell_type": "code",
   "id": "8960cae8-820e-448f-a3f0-5700f3e2de74",
   "metadata": {
    "language": "sql",
    "name": "cell13"
   },
   "outputs": [],
   "source": "create or replace table wine_names as\nselect c_custkey as wine_id, c_address as wine_name, c_name as wine_taster\nfrom snowflake_sample_data.tpch_sf1.customer\nwhere wine_id < 1600;",
   "execution_count": null
  },
  {
   "cell_type": "code",
   "id": "4d2f6f11-d229-4040-9f47-2782b27badc3",
   "metadata": {
    "language": "python",
    "name": "cell37",
    "collapsed": false,
    "codeCollapsed": true
   },
   "outputs": [],
   "source": "import streamlit as st\nst.image(\"TagPropogation.png\")",
   "execution_count": null
  },
  {
   "cell_type": "markdown",
   "id": "e5b4d249-c1b2-4a40-b86e-199e3faa7706",
   "metadata": {
    "name": "cell39",
    "collapsed": false
   },
   "source": "### The Wine Names table has a column called Wine Taster which is a person's name.  This may be considered PII so we will tag it and watch the tags propagate through the lineage"
  },
  {
   "cell_type": "code",
   "id": "4f4cabd6-88f1-4927-9ff6-b5fcba1506ee",
   "metadata": {
    "language": "sql",
    "name": "cell38"
   },
   "outputs": [],
   "source": "alter tag wine_taster_tag unset masking policy simple_mask_string;\n\ncreate or replace tag wine_taster_tag propagate=ON_DEPENDENCY_AND_DATA_MOVEMENT;\n\nalter table wine_names \nmodify column wine_taster set tag wine_taster_tag = 'IS_PII';",
   "execution_count": null
  },
  {
   "cell_type": "markdown",
   "id": "0e08b305-3284-4b15-bd97-31f833dafdfb",
   "metadata": {
    "name": "cell41"
   },
   "source": "### Next lets add a masking policy to protect the PII values"
  },
  {
   "cell_type": "code",
   "id": "4553b774-d889-4afd-bdcc-679331814bb1",
   "metadata": {
    "language": "sql",
    "name": "cell40"
   },
   "outputs": [],
   "source": "create or replace masking policy simple_mask_string as\n  (val string) returns string ->\n  case\n    when current_role() in ('XACCOUNTADMINX') then val\n      else '*** masked *****'\n    end;\n\nalter tag wine_taster_tag set masking policy simple_mask_string;",
   "execution_count": null
  },
  {
   "cell_type": "code",
   "id": "333a36a3-4a0e-4688-9316-32ac149dc054",
   "metadata": {
    "language": "sql",
    "name": "cell11"
   },
   "outputs": [],
   "source": "CREATE OR REPLACE DYNAMIC TABLE wine_attributes_dt\n    TARGET_LAG = '1 minute'\n    WAREHOUSE = COMPUTE_WH\n    REFRESH_MODE = auto\n    INITIALIZE = on_create\nAS\n   SELECT\n        c1:_COL_0::number as wine_id, \n        case \n            when wine_id between 0 and 999 then 'Red' \n            when wine_id between 1000 and 1299 then 'White'\n            when wine_id > 1299 then 'Rose'\n        end as wine_color,  \n        c1:_COL_2::number as CountryId,\n        case \n            when CountryId = 1 then 'US'\n            when CountryId = 2 then 'CHILE'\n            when CountryId = 3 then 'ARGENTINA'\n            when CountryId = 4 then 'AUSTRALIA'\n            when CountryId = 5 then 'NEW ZEALAND'\n            when CountryId = 6 then 'FRANCE'\n            when CountryId = 7 then 'SPAIN'\n            when CountryId = 8 then 'ITALY'\n            when CountryId = 9 then 'GERMANY'\n            when CountryId = 10 then 'GREECE'\n        END AS Country,\n        b.wine_name,\n        b.wine_taster,\n        c1:_COL_4::number as VintageYear\n    from \n        wine_attributes a, \n        wine_names b\n    where b.wine_id = wine_id;",
   "execution_count": null
  },
  {
   "cell_type": "code",
   "id": "ae9dcf7e-7c16-4bfd-b05f-627c9ae3844b",
   "metadata": {
    "language": "sql",
    "name": "cell12"
   },
   "outputs": [],
   "source": "CREATE OR REPLACE DYNAMIC TABLE wine_attributes_french_dt\n    TARGET_LAG = '1 minute'\n    WAREHOUSE = COMPUTE_WH\n    REFRESH_MODE = auto\n    INITIALIZE = on_create\nAS\n    SELECT  \n        a.wine_id, \n        a.wine_name,\n        a.wine_taster,\n        a.wine_color,\n        a.countryid,\n        a.country,\n        a.VintageYear,\n        b.alcohol,\n        b.chlorides,\n        b.citric_acid,\n        b.density,\n        b.fixed_acidity,\n        b.free_sulfur_dioxide,\n        b.ph,\n        b.quality,\n        b.residual_sugar,\n        b.sulphates,\n        b.total_sulfur_dioxide,\n        b.volatile_acidity, \n        b.fixed_acidity / b.ph as acidity_ph_ratio\n    FROM wine_attributes_dt a,winedata b\n    WHERE a.wine_id = b.wine_id\n      AND Country = 'FRANCE';",
   "execution_count": null
  },
  {
   "cell_type": "code",
   "id": "a253ab04-9c72-4f36-b7a0-0fa0914a5bb2",
   "metadata": {
    "language": "sql",
    "name": "cell14"
   },
   "outputs": [],
   "source": "CREATE OR REPLACE VIEW FrenchWines as \nSELECT * FROM wine_attributes_french_dt;",
   "execution_count": null
  },
  {
   "cell_type": "markdown",
   "id": "c785bd97-ff2b-4f46-98bf-7567ee4d23fa",
   "metadata": {
    "name": "cell15",
    "collapsed": false
   },
   "source": "## Now lets take a look at the lineage that was created...\n\n### First, from the SQL API, then from the Lineage UI in Snowsight"
  },
  {
   "cell_type": "code",
   "id": "4f5e1e36-b7da-4b0a-9e03-bee19fbbf370",
   "metadata": {
    "language": "python",
    "name": "cell26",
    "collapsed": false,
    "codeCollapsed": true
   },
   "outputs": [],
   "source": "import streamlit as st\nst.image(\"DataLineageFlow.png\")",
   "execution_count": null
  },
  {
   "cell_type": "markdown",
   "id": "b6e00fab-2c46-4391-b325-042a3c17c61c",
   "metadata": {
    "name": "cell28",
    "collapsed": false
   },
   "source": "### Lineage to source - what are all the upstream objects that went into the FrenchWines view"
  },
  {
   "cell_type": "code",
   "id": "a0422565-b93d-4fc6-8700-8ee9cf51bea8",
   "metadata": {
    "language": "sql",
    "name": "cell9"
   },
   "outputs": [],
   "source": "SELECT\n    DISTANCE,\n    SOURCE_OBJECT_DOMAIN,\n    SOURCE_OBJECT_DATABASE,\n    SOURCE_OBJECT_SCHEMA,\n    SOURCE_OBJECT_NAME,\n    SOURCE_STATUS,\n    TARGET_OBJECT_DOMAIN,\n    TARGET_OBJECT_DATABASE,\n    TARGET_OBJECT_SCHEMA,\n    TARGET_OBJECT_NAME,\n    TARGET_STATUS,\nFROM TABLE (SNOWFLAKE.CORE.GET_LINEAGE('ML_LINEAGE_DATABASE.ML_LINEAGE_SCHEMA.FRENCHWINES', 'VIEW', 'UPSTREAM',4));",
   "execution_count": null
  },
  {
   "cell_type": "markdown",
   "id": "75f6c62a-0488-4cd7-a4df-e0796b02a810",
   "metadata": {
    "name": "cell44",
    "collapsed": false
   },
   "source": "### Now lets get column-level lineage on SULPHATES which appears in the FrenchWines view"
  },
  {
   "cell_type": "code",
   "id": "293534e7-30fa-43f9-b75d-ce609f4d21b3",
   "metadata": {
    "language": "sql",
    "name": "cell31"
   },
   "outputs": [],
   "source": "SELECT\n    DISTANCE,\n    SOURCE_OBJECT_DOMAIN,\n    SOURCE_OBJECT_DATABASE,\n    SOURCE_OBJECT_SCHEMA,\n    SOURCE_OBJECT_NAME,\n    SOURCE_STATUS,\n    TARGET_OBJECT_DOMAIN,\n    TARGET_OBJECT_DATABASE,\n    TARGET_OBJECT_SCHEMA,\n    TARGET_OBJECT_NAME,\n    TARGET_STATUS,\nFROM TABLE (SNOWFLAKE.CORE.GET_LINEAGE('ML_LINEAGE_DATABASE.ML_LINEAGE_SCHEMA.FRENCHWINES.SULPHATES', 'COLUMN', 'UPSTREAM', 3));",
   "execution_count": null
  },
  {
   "cell_type": "markdown",
   "id": "a59cd782-8651-4ac6-bb91-fc2fd830f707",
   "metadata": {
    "name": "cell29",
    "collapsed": false
   },
   "source": "### Impact Analysis - what are all the downstream objects that are impacted by my source?"
  },
  {
   "cell_type": "code",
   "id": "eccdea54-3427-473f-ac21-2a96027782fc",
   "metadata": {
    "language": "sql",
    "name": "cell27"
   },
   "outputs": [],
   "source": "SELECT\n    DISTANCE,\n    SOURCE_OBJECT_DOMAIN,\n    SOURCE_OBJECT_DATABASE,\n    SOURCE_OBJECT_SCHEMA,\n    SOURCE_OBJECT_NAME,\n    SOURCE_STATUS,\n    TARGET_OBJECT_DOMAIN,\n    TARGET_OBJECT_DATABASE,\n    TARGET_OBJECT_SCHEMA,\n    TARGET_OBJECT_NAME,\n    TARGET_STATUS,\nFROM TABLE (SNOWFLAKE.CORE.GET_LINEAGE('ML_LINEAGE_DATABASE.ML_LINEAGE_SCHEMA.FEATURE_STORE_TEMP_STAGE', 'STAGE', 'DOWNSTREAM', 3));",
   "execution_count": null
  },
  {
   "cell_type": "markdown",
   "id": "ff960cba-a79b-4ec4-a288-b2c29efa1e8a",
   "metadata": {
    "name": "cell30",
    "collapsed": false
   },
   "source": "## Now lets look at the Lineage UI for this same workflow\n- Open another Snowsight window or tab\n- Navigate to Data->Databases->ML_LINEAGE_DATABASE->ML_LINEAGE_SCHEMA->Views->FrenchWines\n- Click the \"Lineage\" tab in the center of your screen\n- Click the \"+\" signs on any object to navigate between source and target objects in your workflow\n- Click any object to see the column list and other metadata for that object\n- Notice that the column \"WINE_TASTER\" in WIN_ATTRIBUTES_DT has inhereted the object tag identify as PII\n- \"View lineage\" for any column in this list\n- Find column ACIDITY_PH_RATIO and click View Lineage.  Click \"Upstream Lineage\".  You will see the two columns that are part of the calculation of this ratio \n- Click \"Downstream Lineage\" and click the column namd ACIDITY_PH_RATIO. \n- Hover under the description and click \"Generate with Cortex\". "
  },
  {
   "cell_type": "code",
   "id": "1da0236d-3a1c-4b4c-bc01-511a667ddcc4",
   "metadata": {
    "language": "sql",
    "name": "cell48"
   },
   "outputs": [],
   "source": "-- show datasets;\ndrop dataset if exists my_dataset;\ndrop dataset if exists my_dataset_from_table;\ndrop table if exists MY_TABLE_DATASET_1;\ndrop DYNAMIC TABLE if exists IDENTIFIER('\"ML_LINEAGE_DATABASE\".\"ML_LINEAGE_SCHEMA\".\"WINE_FEATURES$1.0\"');\ndrop VIEW if exists IDENTIFIER('\"ML_LINEAGE_DATABASE\".\"ML_LINEAGE_SCHEMA\".\"EXTRA_WINE_FEATURES$1.0\"');\ndrop TAG if exists IDENTIFIER('\"ML_LINEAGE_DATABASE\".\"ML_LINEAGE_SCHEMA\".\"SNOWML_FEATURE_STORE_ENTITY_WINE\"');\n\ndrop model if exists MODEL_TRAINED_ON_DATASET;\ndrop model if exists MODEL_TRAINED_ON_TABLE;\ndrop model if exists MODEL_TRAINED_ON_PANDAS;",
   "execution_count": null
  },
  {
   "cell_type": "code",
   "id": "20b95a63-c041-49a7-b90b-08021e9af8a2",
   "metadata": {
    "language": "sql",
    "name": "cell34"
   },
   "outputs": [],
   "source": "use schema ML_LINEAGE_DATABASE.ML_LINEAGE_SCHEMA;",
   "execution_count": null
  },
  {
   "cell_type": "markdown",
   "id": "7c97d23c-f7e0-4ac8-82a9-3cf1afa54bb1",
   "metadata": {
    "name": "cell32",
    "collapsed": false
   },
   "source": "## Now, lets expand this example to include components of an ML flow..."
  },
  {
   "cell_type": "code",
   "id": "2e372201-bd1e-4f8c-9145-89082b203132",
   "metadata": {
    "language": "python",
    "name": "cell16",
    "collapsed": false,
    "codeCollapsed": true
   },
   "outputs": [],
   "source": "import streamlit as st\nst.image(\"MLLineageFlow.png\")",
   "execution_count": null
  },
  {
   "cell_type": "code",
   "execution_count": 1,
   "id": "05d1bfe7-45c1-4297-a6bc-3adce12f9fa4",
   "metadata": {
    "codeCollapsed": false,
    "collapsed": false,
    "language": "python",
    "name": "MLconnect",
    "resultHeight": 0
   },
   "outputs": [
    {
     "name": "stdout",
     "output_type": "stream",
     "text": [
      "<snowflake.snowpark.session.Session: account=\"ax_test_qa3\", role=\"ACCOUNTADMIN\", database=\"LINEAGE_DEMO_DB\", schema=\"PUBLIC\", warehouse=\"AX_XL\">\n"
     ]
    }
   ],
   "source": "from snowflake.snowpark.context import get_active_session\nsession = get_active_session()\n\n# Add a query tag to the session. This helps with debugging and performance monitoring.\nsession.query_tag = {\"origin\":\"sf_sit-is\", \"name\":\"aiml_notebooks_lineage\", \"version\":{\"major\":1, \"minor\":0}, \"attributes\":{\"is_quickstart\":1, \"source\":\"notebook\"}}\n\nCURRENT_DB = session.get_current_database()\nCURRENT_SCHEMA = session.get_current_schema()\nprint(CURRENT_DB,CURRENT_SCHEMA)"
  },
  {
   "cell_type": "code",
   "id": "0404f612-e03b-4842-97d4-c1f4fed94a5c",
   "metadata": {
    "language": "python",
    "name": "cell21"
   },
   "outputs": [],
   "source": "# creates \n# external stage: FEATURE_STORE_TEMP_STAGE\n# table: winedata (populated w/1.6K rows) \n# file format: FEATURE_STORE_TEMP_FORMAT\nfrom snowflake.ml.feature_store.examples.example_helper import ExampleHelper\n\nexample_helper = ExampleHelper(session, CURRENT_DB, CURRENT_SCHEMA)\nsource_tables = example_helper.load_example('wine_quality_features')",
   "execution_count": null
  },
  {
   "cell_type": "code",
   "execution_count": null,
   "id": "c5a73b0c-41dd-47f7-b7a1-1da492d23b5e",
   "metadata": {
    "collapsed": false,
    "language": "python",
    "name": "view_sample_data",
    "resultHeight": 252
   },
   "outputs": [
    {
     "data": {
      "text/html": [
       "<div>\n",
       "<style scoped>\n",
       "    .dataframe tbody tr th:only-of-type {\n",
       "        vertical-align: middle;\n",
       "    }\n",
       "\n",
       "    .dataframe tbody tr th {\n",
       "        vertical-align: top;\n",
       "    }\n",
       "\n",
       "    .dataframe thead th {\n",
       "        text-align: right;\n",
       "    }\n",
       "</style>\n",
       "<table border=\"1\" class=\"dataframe\">\n",
       "  <thead>\n",
       "    <tr style=\"text-align: right;\">\n",
       "      <th></th>\n",
       "      <th>WINE_ID</th>\n",
       "      <th>FIXED_ACIDITY</th>\n",
       "      <th>VOLATILE_ACIDITY</th>\n",
       "      <th>CITRIC_ACID</th>\n",
       "      <th>RESIDUAL_SUGAR</th>\n",
       "      <th>CHLORIDES</th>\n",
       "      <th>FREE_SULFUR_DIOXIDE</th>\n",
       "      <th>TOTAL_SULFUR_DIOXIDE</th>\n",
       "      <th>DENSITY</th>\n",
       "      <th>PH</th>\n",
       "      <th>SULPHATES</th>\n",
       "      <th>ALCOHOL</th>\n",
       "      <th>QUALITY</th>\n",
       "    </tr>\n",
       "  </thead>\n",
       "  <tbody>\n",
       "    <tr>\n",
       "      <th>0</th>\n",
       "      <td>1</td>\n",
       "      <td>7.4</td>\n",
       "      <td>0.70</td>\n",
       "      <td>0.00</td>\n",
       "      <td>1.9</td>\n",
       "      <td>0.076</td>\n",
       "      <td>11</td>\n",
       "      <td>34</td>\n",
       "      <td>0.9978</td>\n",
       "      <td>3.51</td>\n",
       "      <td>0.56</td>\n",
       "      <td>9.4</td>\n",
       "      <td>5</td>\n",
       "    </tr>\n",
       "    <tr>\n",
       "      <th>1</th>\n",
       "      <td>2</td>\n",
       "      <td>7.8</td>\n",
       "      <td>0.88</td>\n",
       "      <td>0.00</td>\n",
       "      <td>2.6</td>\n",
       "      <td>0.098</td>\n",
       "      <td>25</td>\n",
       "      <td>67</td>\n",
       "      <td>0.9968</td>\n",
       "      <td>3.20</td>\n",
       "      <td>0.68</td>\n",
       "      <td>9.8</td>\n",
       "      <td>5</td>\n",
       "    </tr>\n",
       "    <tr>\n",
       "      <th>2</th>\n",
       "      <td>3</td>\n",
       "      <td>7.8</td>\n",
       "      <td>0.76</td>\n",
       "      <td>0.04</td>\n",
       "      <td>2.3</td>\n",
       "      <td>0.092</td>\n",
       "      <td>15</td>\n",
       "      <td>54</td>\n",
       "      <td>0.9970</td>\n",
       "      <td>3.26</td>\n",
       "      <td>0.65</td>\n",
       "      <td>9.8</td>\n",
       "      <td>5</td>\n",
       "    </tr>\n",
       "    <tr>\n",
       "      <th>3</th>\n",
       "      <td>4</td>\n",
       "      <td>11.2</td>\n",
       "      <td>0.28</td>\n",
       "      <td>0.56</td>\n",
       "      <td>1.9</td>\n",
       "      <td>0.075</td>\n",
       "      <td>17</td>\n",
       "      <td>60</td>\n",
       "      <td>0.9980</td>\n",
       "      <td>3.16</td>\n",
       "      <td>0.58</td>\n",
       "      <td>9.8</td>\n",
       "      <td>6</td>\n",
       "    </tr>\n",
       "    <tr>\n",
       "      <th>4</th>\n",
       "      <td>5</td>\n",
       "      <td>7.4</td>\n",
       "      <td>0.70</td>\n",
       "      <td>0.00</td>\n",
       "      <td>1.9</td>\n",
       "      <td>0.076</td>\n",
       "      <td>11</td>\n",
       "      <td>34</td>\n",
       "      <td>0.9978</td>\n",
       "      <td>3.51</td>\n",
       "      <td>0.56</td>\n",
       "      <td>9.4</td>\n",
       "      <td>5</td>\n",
       "    </tr>\n",
       "  </tbody>\n",
       "</table>\n",
       "</div>"
      ],
      "text/plain": [
       "   WINE_ID  FIXED_ACIDITY  VOLATILE_ACIDITY  CITRIC_ACID  RESIDUAL_SUGAR  \\\n",
       "0        1            7.4              0.70         0.00             1.9   \n",
       "1        2            7.8              0.88         0.00             2.6   \n",
       "2        3            7.8              0.76         0.04             2.3   \n",
       "3        4           11.2              0.28         0.56             1.9   \n",
       "4        5            7.4              0.70         0.00             1.9   \n",
       "\n",
       "   CHLORIDES  FREE_SULFUR_DIOXIDE  TOTAL_SULFUR_DIOXIDE  DENSITY    PH  \\\n",
       "0      0.076                   11                    34   0.9978  3.51   \n",
       "1      0.098                   25                    67   0.9968  3.20   \n",
       "2      0.092                   15                    54   0.9970  3.26   \n",
       "3      0.075                   17                    60   0.9980  3.16   \n",
       "4      0.076                   11                    34   0.9978  3.51   \n",
       "\n",
       "   SULPHATES  ALCOHOL  QUALITY  \n",
       "0       0.56      9.4        5  \n",
       "1       0.68      9.8        5  \n",
       "2       0.65      9.8        5  \n",
       "3       0.58      9.8        6  \n",
       "4       0.56      9.4        5  "
      ]
     },
     "execution_count": 4,
     "metadata": {},
     "output_type": "execute_result"
    }
   ],
   "source": "# display as Pandas DataFrame (Source is WineData)\nfor table in source_tables:\n    print(f\"{table}:\")\n    df = session.table(table).limit(5).to_pandas()\n    df.style"
  },
  {
   "cell_type": "markdown",
   "id": "3038124f-123b-4d22-9058-4fe2e57af6fe",
   "metadata": {
    "collapsed": false,
    "name": "_2_FEATURE_VIEW",
    "resultHeight": 153
   },
   "source": [
    "## 2. Feature View Lineage\n",
    "\n",
    "We will start by creating a new feature store and register and entities and feature views. More details on feature store APIs can be found [here](https://docs.snowflake.com/en/developer-guide/snowpark-ml/feature-store/overview)). For the detailed workflow of feature store refer to the notebook [here](https://quickstarts.snowflake.com/guide/overview-of-feature-store-api/index.html?index=..%2F..index#0) "
   ]
  },
  {
   "cell_type": "code",
   "execution_count": 5,
   "id": "e9001843-d754-442a-89f1-0c67bc7ff8d4",
   "metadata": {
    "codeCollapsed": false,
    "collapsed": false,
    "language": "python",
    "name": "create_feature_views",
    "resultHeight": 172
   },
   "outputs": [
    {
     "name": "stdout",
     "output_type": "stream",
     "text": [
      "---------------------------------------------------------------------------------------------------------\n",
      "|\"NAME\"               |\"VERSION\"  |\"DESC\"                                              |\"REFRESH_FREQ\"  |\n",
      "---------------------------------------------------------------------------------------------------------\n",
      "|WINE_FEATURES        |1.0        |Managed feature view about wine quality which r...  |1 day           |\n",
      "|EXTRA_WINE_FEATURES  |1.0        |Static feature view about wine quality which ne...  |NULL            |\n",
      "---------------------------------------------------------------------------------------------------------\n",
      "\n"
     ]
    }
   ],
   "source": "from snowflake.ml.feature_store import (\n    FeatureStore,\n    FeatureView,\n    Entity,\n    CreationMode\n)\n\n# Create the feature store\nfs = FeatureStore(\n    session=session, \n    database=CURRENT_DB, \n    name=CURRENT_SCHEMA, \n    default_warehouse=session.get_current_warehouse(),\n    creation_mode=CreationMode.CREATE_IF_NOT_EXIST,\n)\n\nall_entities = []\nfor e in example_helper.load_entities():\n    entity = fs.register_entity(e)\n    all_entities.append(entity)\n\n# Create the feature views\nall_feature_views = []\nfor fv in example_helper.load_draft_feature_views():\n    rf = fs.register_feature_view(\n        feature_view=fv,\n        version='1.0', \n        overwrite=True\n    )\n    all_feature_views.append(rf)\n\nfs.list_feature_views().select('name', 'version', 'desc', 'refresh_freq').show()"
  },
  {
   "cell_type": "code",
   "execution_count": 6,
   "id": "4472dcfd-9913-4ca9-adb3-08b6c7a7ed58",
   "metadata": {
    "collapsed": false,
    "language": "python",
    "name": "query_lineage_fv",
    "resultHeight": 374
   },
   "outputs": [
    {
     "name": "stderr",
     "output_type": "stream",
     "text": [
      "LineageNode.lineage() is in private preview since 1.5.3. Do not use it in production. \n",
      "Lineage.trace() is in private preview since 1.16.0. Do not use it in production. \n"
     ]
    },
    {
     "name": "stdout",
     "output_type": "stream",
     "text": [
      "Upstream Lineage of feature view 'EXTRA_WINE_FEATURES'\n",
      "[LineageNode(\n",
      "  name='LINEAGE_DEMO_DB.FEATURE_STORE.WINEDATA',\n",
      "  version='None',\n",
      "  domain='table',\n",
      "  status='ACTIVE',\n",
      "  created_on='2024-08-01 22:44:14'\n",
      ")]\n",
      "Upstream Lineage of feature view 'WINE_FEATURES'\n",
      "[LineageNode(\n",
      "  name='LINEAGE_DEMO_DB.FEATURE_STORE.WINEDATA',\n",
      "  version='None',\n",
      "  domain='table',\n",
      "  status='ACTIVE',\n",
      "  created_on='2024-08-01 22:44:14'\n",
      ")]\n"
     ]
    }
   ],
   "source": "# Query the upstream lineage of the feature views we just created. \nfor fv in all_feature_views:\n    print(\"Upstream Lineage of feature view '\" + fv.name + \"'\")\n    print(fv.lineage(direction='upstream'))"
  },
  {
   "cell_type": "markdown",
   "id": "f15821a9-d07e-40a8-978c-be55312f9926",
   "metadata": {
    "collapsed": false,
    "name": "_3_TRAINING_DATA",
    "resultHeight": 198
   },
   "source": [
    "## 3. Training Data Lineage\n",
    "\n",
    "Next step in ML workflows will be generating training data that is needed to train the model. There are 2 ways to generate training data. \n",
    "1. Using feature views.\n",
    "2. Using source tables directly.  "
   ]
  },
  {
   "cell_type": "markdown",
   "id": "2cbe8cff-f952-4c97-a44d-5e64013dec88",
   "metadata": {
    "collapsed": false,
    "name": "_3_1_FEATURE_VIEWS",
    "resultHeight": 88
   },
   "source": [
    "### 3.1 Training Data from Feature views\n",
    "\n",
    "Lets explore the workflow of creating training data sets using the feature views. "
   ]
  },
  {
   "cell_type": "code",
   "execution_count": null,
   "id": "a6c80b76-99a4-4eb0-b0cb-583afa434ecf",
   "metadata": {
    "collapsed": false,
    "language": "python",
    "name": "build_metadata",
    "resultHeight": 0
   },
   "outputs": [],
   "source": [
    "label_cols = example_helper.get_label_cols()\n",
    "timestamp_col = example_helper.get_training_data_timestamp_col()\n",
    "excluded_cols = example_helper.get_excluded_cols()\n",
    "join_keys = [key for entity in all_entities for key in entity.join_keys]\n",
    "spine_table = example_helper.get_training_spine_table()\n",
    "print(f'timestamp col: {timestamp_col}')\n",
    "print(f'excluded cols: {excluded_cols}')\n",
    "print(f'label cols: {label_cols}')\n",
    "print(f'join keys: {join_keys}')\n",
    "print(f'training spine table: {spine_table}')"
   ]
  },
  {
   "cell_type": "code",
   "execution_count": null,
   "id": "ea00fe3a-ac16-45d7-95c0-7ea7ed344e79",
   "metadata": {
    "collapsed": false,
    "language": "python",
    "name": "build_spine",
    "resultHeight": 439
   },
   "outputs": [
    {
     "data": {
      "text/html": [
       "<div>\n",
       "<style scoped>\n",
       "    .dataframe tbody tr th:only-of-type {\n",
       "        vertical-align: middle;\n",
       "    }\n",
       "\n",
       "    .dataframe tbody tr th {\n",
       "        vertical-align: top;\n",
       "    }\n",
       "\n",
       "    .dataframe thead th {\n",
       "        text-align: right;\n",
       "    }\n",
       "</style>\n",
       "<table border=\"1\" class=\"dataframe\">\n",
       "  <thead>\n",
       "    <tr style=\"text-align: right;\">\n",
       "      <th></th>\n",
       "      <th>QUALITY</th>\n",
       "      <th>WINE_ID</th>\n",
       "    </tr>\n",
       "  </thead>\n",
       "  <tbody>\n",
       "    <tr>\n",
       "      <th>0</th>\n",
       "      <td>6</td>\n",
       "      <td>544</td>\n",
       "    </tr>\n",
       "    <tr>\n",
       "      <th>1</th>\n",
       "      <td>5</td>\n",
       "      <td>978</td>\n",
       "    </tr>\n",
       "    <tr>\n",
       "      <th>2</th>\n",
       "      <td>5</td>\n",
       "      <td>679</td>\n",
       "    </tr>\n",
       "    <tr>\n",
       "      <th>3</th>\n",
       "      <td>5</td>\n",
       "      <td>1459</td>\n",
       "    </tr>\n",
       "    <tr>\n",
       "      <th>4</th>\n",
       "      <td>5</td>\n",
       "      <td>5</td>\n",
       "    </tr>\n",
       "    <tr>\n",
       "      <th>...</th>\n",
       "      <td>...</td>\n",
       "      <td>...</td>\n",
       "    </tr>\n",
       "    <tr>\n",
       "      <th>507</th>\n",
       "      <td>6</td>\n",
       "      <td>508</td>\n",
       "    </tr>\n",
       "    <tr>\n",
       "      <th>508</th>\n",
       "      <td>6</td>\n",
       "      <td>624</td>\n",
       "    </tr>\n",
       "    <tr>\n",
       "      <th>509</th>\n",
       "      <td>5</td>\n",
       "      <td>1132</td>\n",
       "    </tr>\n",
       "    <tr>\n",
       "      <th>510</th>\n",
       "      <td>5</td>\n",
       "      <td>511</td>\n",
       "    </tr>\n",
       "    <tr>\n",
       "      <th>511</th>\n",
       "      <td>5</td>\n",
       "      <td>1568</td>\n",
       "    </tr>\n",
       "  </tbody>\n",
       "</table>\n",
       "<p>512 rows × 2 columns</p>\n",
       "</div>"
      ],
      "text/plain": [
       "     QUALITY  WINE_ID\n",
       "0          6      544\n",
       "1          5      978\n",
       "2          5      679\n",
       "3          5     1459\n",
       "4          5        5\n",
       "..       ...      ...\n",
       "507        6      508\n",
       "508        6      624\n",
       "509        5     1132\n",
       "510        5      511\n",
       "511        5     1568\n",
       "\n",
       "[512 rows x 2 columns]"
      ]
     },
     "execution_count": 8,
     "metadata": {},
     "output_type": "execute_result"
    }
   ],
   "source": [
    "sample_count = 512\n",
    "source_df = session.sql(f\"\"\"\n",
    "    select {','.join(label_cols)}, \n",
    "            {','.join(join_keys)} \n",
    "            {',' + timestamp_col if timestamp_col is not None else ''} \n",
    "    from {spine_table}\n",
    "\"\"\")\n",
    "spine_df = source_df.sample(n=sample_count)\n",
    "# preview spine dataframe\n",
    "spine_df.show()"
   ]
  },
  {
   "cell_type": "markdown",
   "id": "4e797a98-e9a1-4f9f-a304-c98f252baf28",
   "metadata": {
    "collapsed": false,
    "name": "_3_1_1_DATASET",
    "resultHeight": 114
   },
   "source": "#### 3.1.1 Dataset as training data\n\n\n\n[Snowflake Dataset](https://docs.snowflake.com/en/developer-guide/snowpark-ml/dataset) generated from feature views created above. Dataset is a readonly objects helps in reproducability of the ML model. \n\nUse Snowflake Datasets in the following situations:\n\n- You need to manage and version large datasets for reproducible machine learning model training and testing.\n- You need fine-grained file-level access and/or data shuffling for distributed training or data streaming.\n- You need to integrate with external machine learning frameworks and tools.\n- You need to track the lineage used to create an ML model."
  },
  {
   "cell_type": "code",
   "execution_count": 9,
   "id": "9167a9db-7fc7-42da-94dd-4ffbc7de4ce3",
   "metadata": {
    "collapsed": false,
    "language": "python",
    "name": "build_dataset",
    "resultHeight": 0
   },
   "outputs": [],
   "source": [
    "my_dataset = fs.generate_dataset(\n",
    "    name=\"my_dataset\",\n",
    "    spine_df=spine_df, \n",
    "    features=all_feature_views,\n",
    "    version=\"1.0\",\n",
    "    spine_timestamp_col=timestamp_col,\n",
    "    spine_label_cols=label_cols,\n",
    "    exclude_columns=excluded_cols,\n",
    "    desc=\"This is the dataset joined spine dataframe with feature views\",\n",
    ")"
   ]
  },
  {
   "cell_type": "code",
   "execution_count": 10,
   "id": "b7819ff1-2066-431b-922f-44009a7812b6",
   "metadata": {
    "collapsed": false,
    "language": "python",
    "name": "upstream_lineage_dataset",
    "resultHeight": 1125
   },
   "outputs": [
    {
     "data": {
      "text/plain": [
       "[LineageNode(\n",
       "   name='LINEAGE_DEMO_DB.FEATURE_STORE.WINEDATA',\n",
       "   version='None',\n",
       "   domain='table',\n",
       "   status='ACTIVE',\n",
       "   created_on='2024-08-01 22:44:14'\n",
       " ),\n",
       " FeatureView(_name=EXTRA_WINE_FEATURES, _entities=[Entity(name=WINE, join_keys=['WINE_ID'], owner=None, desc=Wine ID column.)], _feature_df=<snowflake.snowpark.dataframe.DataFrame object at 0x1711bc3d0>, _timestamp_col=None, _desc=Static feature view about wine quality which never refresh., _infer_schema_df=<snowflake.snowpark.dataframe.DataFrame object at 0x1711fd910>, _query=SELECT \"WINE_ID\", \"SULPHATES\", \"ALCOHOL\" FROM \"LINEAGE_DEMO_DB\".FEATURE_STORE.winedata, _version=1.0, _status=FeatureViewStatus.STATIC, _feature_desc=OrderedDict([('SULPHATES', ''), ('ALCOHOL', '')]), _refresh_freq=None, _database=LINEAGE_DEMO_DB, _schema=FEATURE_STORE, _warehouse=None, _refresh_mode=None, _refresh_mode_reason=None, _owner=ACCOUNTADMIN, _lineage_node_name=LINEAGE_DEMO_DB.FEATURE_STORE.EXTRA_WINE_FEATURES, _lineage_node_domain=feature_view, _lineage_node_version=1.0, _lineage_node_status=None, _lineage_node_created_on=None, _session=<snowflake.snowpark.session.Session: account=\"ax_test_qa3\", role=\"ACCOUNTADMIN\", database=\"LINEAGE_DEMO_DB\", schema=\"MODEL_SCHEMA\", warehouse=\"AX_XL\">),\n",
       " FeatureView(_name=WINE_FEATURES, _entities=[Entity(name=WINE, join_keys=['WINE_ID'], owner=None, desc=Wine ID column.)], _feature_df=<snowflake.snowpark.dataframe.DataFrame object at 0x1711a1550>, _timestamp_col=None, _desc=Managed feature view about wine quality which refreshes everyday., _infer_schema_df=<snowflake.snowpark.dataframe.DataFrame object at 0x1711a12b0>, _query=SELECT \"WINE_ID\", \"FIXED_ACIDITY\", \"CITRIC_ACID\", \"CHLORIDES\", \"TOTAL_SULFUR_DIOXIDE\", \"PH\", (\"FIXED_ACIDITY\" * \"CITRIC_ACID\") AS \"MY_NEW_FEATURE\" FROM \"LINEAGE_DEMO_DB\".FEATURE_STORE.winedata, _version=1.0, _status=FeatureViewStatus.ACTIVE, _feature_desc=OrderedDict([('FIXED_ACIDITY', ''), ('CITRIC_ACID', ''), ('CHLORIDES', ''), ('TOTAL_SULFUR_DIOXIDE', ''), ('PH', ''), ('MY_NEW_FEATURE', '')]), _refresh_freq=1 day, _database=LINEAGE_DEMO_DB, _schema=FEATURE_STORE, _warehouse=AX_XL, _refresh_mode=INCREMENTAL, _refresh_mode_reason=None, _owner=ACCOUNTADMIN, _lineage_node_name=LINEAGE_DEMO_DB.FEATURE_STORE.WINE_FEATURES, _lineage_node_domain=feature_view, _lineage_node_version=1.0, _lineage_node_status=None, _lineage_node_created_on=None, _session=<snowflake.snowpark.session.Session: account=\"ax_test_qa3\", role=\"ACCOUNTADMIN\", database=\"LINEAGE_DEMO_DB\", schema=\"MODEL_SCHEMA\", warehouse=\"AX_XL\">)]"
      ]
     },
     "execution_count": 10,
     "metadata": {},
     "output_type": "execute_result"
    }
   ],
   "source": "# Query Upstream lineage of the dataset we just generated. This will include a table and 2 feature views\nmy_dataset.lineage(direction=\"upstream\")"
  },
  {
   "cell_type": "code",
   "execution_count": 11,
   "id": "08a9399a-c23a-4463-8c15-bfccc06be0d3",
   "metadata": {
    "collapsed": false,
    "language": "python",
    "name": "downstream_lineage_dataset",
    "resultHeight": 239
   },
   "outputs": [
    {
     "name": "stdout",
     "output_type": "stream",
     "text": [
      "Downstream Lineage of feature view 'EXTRA_WINE_FEATURES'\n",
      "[Dataset(\n",
      "  name='LINEAGE_DEMO_DB.FEATURE_STORE.MY_DATASET',\n",
      "  version='4.0',\n",
      ")]\n",
      "Downstream Lineage of feature view 'WINE_FEATURES'\n",
      "[Dataset(\n",
      "  name='LINEAGE_DEMO_DB.FEATURE_STORE.MY_DATASET',\n",
      "  version='4.0',\n",
      ")]\n"
     ]
    }
   ],
   "source": "# Query Downstream lineage from the feature views.\nfor fv in all_feature_views:\n    print(\"Downstream Lineage of feature view '\" + fv.name + \"'\")\n    print(fv.lineage(direction='downstream'))"
  },
  {
   "cell_type": "markdown",
   "id": "a344c0d7-d03e-4720-8633-3ab93b2ae23d",
   "metadata": {
    "collapsed": false,
    "name": "_4_MODELS",
    "resultHeight": 102
   },
   "source": [
    "## 4. Model Lineage\n",
    "\n",
    "Now let's train a simple random forest model, and evaluate the prediction accuracy."
   ]
  },
  {
   "cell_type": "code",
   "execution_count": 16,
   "id": "cf1209a6-4c8c-4441-9c5d-7688f4ec0233",
   "metadata": {
    "collapsed": false,
    "language": "python",
    "name": "create_registry",
    "resultHeight": 0
   },
   "outputs": [],
   "source": [
    "# Let's create a registry to save the trained models. \n",
    "# All models need to be logged into the registry for their lineage to be tracked.\n",
    "\n",
    "from snowflake.ml.registry import Registry\n",
    "\n",
    "registry = Registry(\n",
    "    session=session, \n",
    "    database_name=CURRENT_DB, \n",
    "    schema_name=CURRENT_SCHEMA,\n",
    ")"
   ]
  },
  {
   "cell_type": "markdown",
   "id": "50a0be84-0f5d-4096-bfdd-3a5f84237308",
   "metadata": {
    "collapsed": false,
    "name": "_4_1_SNOWFLAKE_MODEL",
    "resultHeight": 46
   },
   "source": [
    "### 4.1 Model trained in snowflake ecosystem"
   ]
  },
  {
   "cell_type": "code",
   "execution_count": 17,
   "id": "4e347202-d601-4c5f-ad70-f54e0719dc29",
   "metadata": {
    "collapsed": false,
    "language": "python",
    "name": "define_external_model",
    "resultHeight": 0
   },
   "outputs": [],
   "source": [
    "# Lets define a training function that uses Random forest to build the model\n",
    "\n",
    "from snowflake.ml.modeling.ensemble import RandomForestRegressor\n",
    "from snowflake.ml.modeling import metrics as snowml_metrics\n",
    "from snowflake.snowpark.functions import abs as sp_abs, mean, col\n",
    "\n",
    "def train_model_using_snowpark_ml(training_data_df):\n",
    "    train, test = training_data_df.random_split([0.8, 0.2], seed=42)\n",
    "    feature_columns = list(set(training_data_df.columns) - set(label_cols) - set(join_keys) - set([timestamp_col]))\n",
    "    print(f\"feature cols: {feature_columns}\")\n",
    "    \n",
    "    rf = RandomForestRegressor(\n",
    "        input_cols=feature_columns, label_cols=label_cols, \n",
    "        max_depth=3, n_estimators=20, random_state=42\n",
    "    )\n",
    "\n",
    "    rf.fit(train)\n",
    "    predictions = rf.predict(test)\n",
    "\n",
    "    output_label_names = ['OUTPUT_' + col for col in label_cols]\n",
    "    mse = snowml_metrics.mean_squared_error(\n",
    "        df=predictions, \n",
    "        y_true_col_names=label_cols, \n",
    "        y_pred_col_names=output_label_names\n",
    "    )\n",
    "\n",
    "    accuracy = 100 - snowml_metrics.mean_absolute_percentage_error(\n",
    "        df=predictions,\n",
    "        y_true_col_names=label_cols,\n",
    "        y_pred_col_names=output_label_names\n",
    "    )\n",
    "\n",
    "    print(f\"MSE: {mse}, Accuracy: {accuracy}\")\n",
    "    return rf"
   ]
  },
  {
   "cell_type": "markdown",
   "id": "21d891d0-3439-455e-94b9-c3fb6330119d",
   "metadata": {
    "collapsed": false,
    "name": "_4_1_1_DATASET_TRAINING",
    "resultHeight": 47
   },
   "source": [
    "#### 4.1.1 Model trained using Dataset"
   ]
  },
  {
   "cell_type": "code",
   "execution_count": 18,
   "id": "5f3c71aa-1c6b-4bf4-83f9-2176dc249f83",
   "metadata": {
    "collapsed": false,
    "language": "python",
    "name": "convert_to_dataframe",
    "resultHeight": 439
   },
   "outputs": [
    {
     "data": {
      "text/html": [
       "<div>\n",
       "<style scoped>\n",
       "    .dataframe tbody tr th:only-of-type {\n",
       "        vertical-align: middle;\n",
       "    }\n",
       "\n",
       "    .dataframe tbody tr th {\n",
       "        vertical-align: top;\n",
       "    }\n",
       "\n",
       "    .dataframe thead th {\n",
       "        text-align: right;\n",
       "    }\n",
       "</style>\n",
       "<table border=\"1\" class=\"dataframe\">\n",
       "  <thead>\n",
       "    <tr style=\"text-align: right;\">\n",
       "      <th></th>\n",
       "      <th>QUALITY</th>\n",
       "      <th>SULPHATES</th>\n",
       "      <th>ALCOHOL</th>\n",
       "      <th>FIXED_ACIDITY</th>\n",
       "      <th>CITRIC_ACID</th>\n",
       "      <th>CHLORIDES</th>\n",
       "      <th>TOTAL_SULFUR_DIOXIDE</th>\n",
       "      <th>PH</th>\n",
       "      <th>MY_NEW_FEATURE</th>\n",
       "    </tr>\n",
       "  </thead>\n",
       "  <tbody>\n",
       "    <tr>\n",
       "      <th>0</th>\n",
       "      <td>5</td>\n",
       "      <td>0.56</td>\n",
       "      <td>9.4</td>\n",
       "      <td>7.4</td>\n",
       "      <td>0.00</td>\n",
       "      <td>0.076</td>\n",
       "      <td>34</td>\n",
       "      <td>3.51</td>\n",
       "      <td>0.000</td>\n",
       "    </tr>\n",
       "    <tr>\n",
       "      <th>1</th>\n",
       "      <td>5</td>\n",
       "      <td>0.68</td>\n",
       "      <td>9.8</td>\n",
       "      <td>7.8</td>\n",
       "      <td>0.00</td>\n",
       "      <td>0.098</td>\n",
       "      <td>67</td>\n",
       "      <td>3.20</td>\n",
       "      <td>0.000</td>\n",
       "    </tr>\n",
       "    <tr>\n",
       "      <th>2</th>\n",
       "      <td>5</td>\n",
       "      <td>0.64</td>\n",
       "      <td>9.5</td>\n",
       "      <td>7.6</td>\n",
       "      <td>0.29</td>\n",
       "      <td>0.075</td>\n",
       "      <td>66</td>\n",
       "      <td>3.40</td>\n",
       "      <td>2.204</td>\n",
       "    </tr>\n",
       "    <tr>\n",
       "      <th>3</th>\n",
       "      <td>5</td>\n",
       "      <td>0.70</td>\n",
       "      <td>11.1</td>\n",
       "      <td>7.9</td>\n",
       "      <td>0.40</td>\n",
       "      <td>0.062</td>\n",
       "      <td>20</td>\n",
       "      <td>3.28</td>\n",
       "      <td>3.160</td>\n",
       "    </tr>\n",
       "    <tr>\n",
       "      <th>4</th>\n",
       "      <td>7</td>\n",
       "      <td>0.76</td>\n",
       "      <td>10.7</td>\n",
       "      <td>11.8</td>\n",
       "      <td>0.49</td>\n",
       "      <td>0.093</td>\n",
       "      <td>80</td>\n",
       "      <td>3.30</td>\n",
       "      <td>5.782</td>\n",
       "    </tr>\n",
       "    <tr>\n",
       "      <th>...</th>\n",
       "      <td>...</td>\n",
       "      <td>...</td>\n",
       "      <td>...</td>\n",
       "      <td>...</td>\n",
       "      <td>...</td>\n",
       "      <td>...</td>\n",
       "      <td>...</td>\n",
       "      <td>...</td>\n",
       "      <td>...</td>\n",
       "    </tr>\n",
       "    <tr>\n",
       "      <th>507</th>\n",
       "      <td>4</td>\n",
       "      <td>0.46</td>\n",
       "      <td>9.6</td>\n",
       "      <td>8.1</td>\n",
       "      <td>0.00</td>\n",
       "      <td>0.081</td>\n",
       "      <td>24</td>\n",
       "      <td>3.38</td>\n",
       "      <td>0.000</td>\n",
       "    </tr>\n",
       "    <tr>\n",
       "      <th>508</th>\n",
       "      <td>5</td>\n",
       "      <td>0.64</td>\n",
       "      <td>9.7</td>\n",
       "      <td>6.7</td>\n",
       "      <td>0.08</td>\n",
       "      <td>0.064</td>\n",
       "      <td>34</td>\n",
       "      <td>3.33</td>\n",
       "      <td>0.536</td>\n",
       "    </tr>\n",
       "    <tr>\n",
       "      <th>509</th>\n",
       "      <td>7</td>\n",
       "      <td>0.68</td>\n",
       "      <td>11.4</td>\n",
       "      <td>13.3</td>\n",
       "      <td>0.75</td>\n",
       "      <td>0.084</td>\n",
       "      <td>43</td>\n",
       "      <td>3.04</td>\n",
       "      <td>9.975</td>\n",
       "    </tr>\n",
       "    <tr>\n",
       "      <th>510</th>\n",
       "      <td>6</td>\n",
       "      <td>0.48</td>\n",
       "      <td>10.5</td>\n",
       "      <td>5.6</td>\n",
       "      <td>0.78</td>\n",
       "      <td>0.074</td>\n",
       "      <td>92</td>\n",
       "      <td>3.39</td>\n",
       "      <td>4.368</td>\n",
       "    </tr>\n",
       "    <tr>\n",
       "      <th>511</th>\n",
       "      <td>6</td>\n",
       "      <td>0.63</td>\n",
       "      <td>10.2</td>\n",
       "      <td>10.0</td>\n",
       "      <td>0.31</td>\n",
       "      <td>0.090</td>\n",
       "      <td>62</td>\n",
       "      <td>3.18</td>\n",
       "      <td>3.100</td>\n",
       "    </tr>\n",
       "  </tbody>\n",
       "</table>\n",
       "<p>512 rows × 9 columns</p>\n",
       "</div>"
      ],
      "text/plain": [
       "     QUALITY  SULPHATES  ALCOHOL  FIXED_ACIDITY  CITRIC_ACID  CHLORIDES  \\\n",
       "0          5       0.56      9.4            7.4         0.00      0.076   \n",
       "1          5       0.68      9.8            7.8         0.00      0.098   \n",
       "2          5       0.64      9.5            7.6         0.29      0.075   \n",
       "3          5       0.70     11.1            7.9         0.40      0.062   \n",
       "4          7       0.76     10.7           11.8         0.49      0.093   \n",
       "..       ...        ...      ...            ...          ...        ...   \n",
       "507        4       0.46      9.6            8.1         0.00      0.081   \n",
       "508        5       0.64      9.7            6.7         0.08      0.064   \n",
       "509        7       0.68     11.4           13.3         0.75      0.084   \n",
       "510        6       0.48     10.5            5.6         0.78      0.074   \n",
       "511        6       0.63     10.2           10.0         0.31      0.090   \n",
       "\n",
       "     TOTAL_SULFUR_DIOXIDE    PH  MY_NEW_FEATURE  \n",
       "0                      34  3.51           0.000  \n",
       "1                      67  3.20           0.000  \n",
       "2                      66  3.40           2.204  \n",
       "3                      20  3.28           3.160  \n",
       "4                      80  3.30           5.782  \n",
       "..                    ...   ...             ...  \n",
       "507                    24  3.38           0.000  \n",
       "508                    34  3.33           0.536  \n",
       "509                    43  3.04           9.975  \n",
       "510                    92  3.39           4.368  \n",
       "511                    62  3.18           3.100  \n",
       "\n",
       "[512 rows x 9 columns]"
      ]
     },
     "execution_count": 18,
     "metadata": {},
     "output_type": "execute_result"
    }
   ],
   "source": [
    "# Convert dataset to a snowpark dataframe and examine all the features in it.\n",
    "\n",
    "training_data_df = my_dataset.read.to_snowpark_dataframe()\n",
    "assert training_data_df.count() == sample_count\n",
    "# drop rows that have any nulls in value. \n",
    "training_data_df = training_data_df.dropna(how='any')\n",
    "training_data_df.to_pandas()"
   ]
  },
  {
   "cell_type": "code",
   "execution_count": 19,
   "id": "6e4081e9-69cb-4756-af0e-c94f94b2cf4d",
   "metadata": {
    "collapsed": false,
    "language": "python",
    "name": "train_model",
    "resultHeight": 283
   },
   "outputs": [
    {
     "name": "stdout",
     "output_type": "stream",
     "text": [
      "feature cols: ['MY_NEW_FEATURE', 'PH', 'TOTAL_SULFUR_DIOXIDE', 'CITRIC_ACID', 'CHLORIDES', 'SULPHATES', 'FIXED_ACIDITY', 'ALCOHOL']\n"
     ]
    },
    {
     "name": "stderr",
     "output_type": "stream",
     "text": [
      "The version of package 'snowflake-snowpark-python' in the local environment is 1.20.2, which does not fit the criteria for the requirement 'snowflake-snowpark-python'. Your UDF might not work when the package version is different between the server and your local environment.\n",
      "The version of package 'numpy' in the local environment is 1.24.4, which does not fit the criteria for the requirement 'numpy==1.24.3'. Your UDF might not work when the package version is different between the server and your local environment.\n",
      "The version of package 'scikit-learn' in the local environment is 1.3.2, which does not fit the criteria for the requirement 'scikit-learn==1.3.0'. Your UDF might not work when the package version is different between the server and your local environment.\n",
      "/opt/homebrew/anaconda3/envs/py38_env/lib/python3.8/site-packages/sklearn/base.py:348: InconsistentVersionWarning: Trying to unpickle estimator DecisionTreeRegressor from version 1.3.0 when using version 1.3.2. This might lead to breaking code or invalid results. Use at your own risk. For more info please refer to:\n",
      "https://scikit-learn.org/stable/model_persistence.html#security-maintainability-limitations\n",
      "  warnings.warn(\n",
      "/opt/homebrew/anaconda3/envs/py38_env/lib/python3.8/site-packages/sklearn/base.py:348: InconsistentVersionWarning: Trying to unpickle estimator RandomForestRegressor from version 1.3.0 when using version 1.3.2. This might lead to breaking code or invalid results. Use at your own risk. For more info please refer to:\n",
      "https://scikit-learn.org/stable/model_persistence.html#security-maintainability-limitations\n",
      "  warnings.warn(\n",
      "The version of package 'numpy' in the local environment is 1.24.4, which does not fit the criteria for the requirement 'numpy==1.24.3'. Your UDF might not work when the package version is different between the server and your local environment.\n",
      "The version of package 'scikit-learn' in the local environment is 1.3.2, which does not fit the criteria for the requirement 'scikit-learn==1.3.0'. Your UDF might not work when the package version is different between the server and your local environment.\n"
     ]
    },
    {
     "name": "stdout",
     "output_type": "stream",
     "text": [
      "MSE: 0.25267477340674793, Accuracy: 99.92349333548655\n"
     ]
    },
    {
     "name": "stderr",
     "output_type": "stream",
     "text": [
      "/opt/homebrew/anaconda3/envs/py38_env/lib/python3.8/contextlib.py:113: UserWarning: `relax_version` is not set and therefore defaulted to True. Dependency version constraints relaxed from ==x.y.z to >=x.y, <(x+1). To use specific dependency versions for compatibility, reproducibility, etc., set `options={'relax_version': False}` when logging the model.\n",
      "  return next(self.gen)\n"
     ]
    }
   ],
   "source": "# Train the random forest model using Snowpark-ML and the dataset (2min runtime)\n# then log the model in the registry.\n\nrandom_forest_model = train_model_using_snowpark_ml(training_data_df) \n\nmodel_version = registry.log_model(\n    model_name=\"MODEL_TRAINED_ON_DATASET\",\n    version_name=\"v1\",\n    model=random_forest_model,\n    options={'relax_version': True},\n    comment=\"Model trained with feature views, dataset\"\n)"
  },
  {
   "cell_type": "code",
   "execution_count": 20,
   "id": "6699384c-fb53-4a10-af29-2d979eb518ce",
   "metadata": {
    "collapsed": false,
    "language": "python",
    "name": "query_model_lineage",
    "resultHeight": 172
   },
   "outputs": [
    {
     "data": {
      "text/plain": [
       "[Dataset(\n",
       "   name='LINEAGE_DEMO_DB.FEATURE_STORE.MY_DATASET',\n",
       "   version='4.0',\n",
       " )]"
      ]
     },
     "execution_count": 20,
     "metadata": {},
     "output_type": "execute_result"
    }
   ],
   "source": [
    "# Query lineage of new model\n",
    "ds = model_version.lineage(direction=\"upstream\")\n",
    "ds"
   ]
  },
  {
   "cell_type": "markdown",
   "id": "9d52ce07-bcc2-4ec4-b300-bb1aacf14989",
   "metadata": {
    "collapsed": false,
    "name": "_4_2_OUTSIDE_MODEL",
    "resultHeight": 279
   },
   "source": [
    "### 4.2 Model trained in non-snowflake ecosystem\n",
    "\n",
    "For the workflows such as:\n",
    "- A model trained using snowpark.ml but not a Snowpark DataFrame (like pandas).\n",
    "- A model trained without using snowpark.ml or a Snowpark DataFrame.\n",
    "- A model trained outside of Snowflake.\n",
    "\n",
    "\n",
    "You can still associate the lineage between the source data object and the trained model by passing the snowpark dataframe backed by the source data object to model registry’s log_model API as sample_input_data. \n"
   ]
  },
  {
   "cell_type": "markdown",
   "id": "cd0a4deb-dca4-4ec5-baac-e42866371d32",
   "metadata": {
    "collapsed": false,
    "name": "_5_VISUALIZATION",
    "resultHeight": 127
   },
   "source": "## 5. Visualization of lineage\n \n\n(Show this in Snowsight starting with the Stage object)"
  },
  {
   "cell_type": "markdown",
   "id": "fe6b52bd-aaa0-4eba-8a04-ccc4a7b885e1",
   "metadata": {
    "name": "cell25",
    "collapsed": false
   },
   "source": "## What's Next? \n\n- Support for Stored Procedures and Tasks in the Lineage Graph\n- Support for Organizational Listings in the Lineage Graph\n- Support for 3rd Party Tools in the Lineage Graph (dbt, PowerBI)\n- Advanced filtering capabilities for deleted nodes\n- Simplifying permission model to make onboarding even easier\n- Integrate lineage data from OpenFlow to get complete source->sink view"
  },
  {
   "cell_type": "markdown",
   "id": "8a4c072f-b609-486c-88b9-9261ef6d33fa",
   "metadata": {
    "name": "cell17",
    "collapsed": false
   },
   "source": "## Partner Solutions\n- Alation\n- Collibra\n- Atlan\n- Informatica"
  },
  {
   "cell_type": "markdown",
   "id": "8c5b6118-1d11-48a4-924a-6df4093f7ea0",
   "metadata": {
    "name": "cell20",
    "collapsed": false
   },
   "source": "# References\n\n[Repo with this Demo Notebook](https://github.com/sfc-gh-tmanfredi/SnowflakeLineage)\n\nData Lineage Docs\n[Snowsight Lineage](https://docs.snowflake.com/en/user-guide/ui-snowsight-lineage),\n[Get_Lineage() Function](https://docs.snowflake.com/en/sql-reference/functions/get_lineage-snowflake-core),\n[Access_History](https://docs.snowflake.com/en/user-guide/access-history),\n[Object_Dependencies](https://docs.snowflake.com/en/user-guide/object-dependencies)\n\nML Feature Docs\n[Snowflake Feature Store](https://docs.snowflake.com/en/developer-guide/snowpark-ml/feature-store/overview), \n[Dataset](https://docs.snowflake.com/en/developer-guide/snowpark-ml/dataset), \n[ML Lineage](https://docs.snowflake.com/en/developer-guide/snowflake-ml/ml-lineage), \n[Snowpark ML Modeling](https://docs.snowflake.com/en/developer-guide/snowpark-ml/modeling) and \n[Snowflake Model Registry](https://docs.snowflake.com/en/developer-guide/snowpark-ml/model-registry/overview)\n\n\nBlogs\n- https://medium.com/@nethaji.bhuma/snowflake-lineage-features-b35aae81893a\n- https://medium.com/@pascalpfffle/snowflake-data-lineage-transparency-in-your-data-landscape-with-snowsight-597a5aba8010\n- https://medium.com/@jfgiudicelli/advanced-data-lineage-in-snowflake-5bc693777887"
  }
 ]
}