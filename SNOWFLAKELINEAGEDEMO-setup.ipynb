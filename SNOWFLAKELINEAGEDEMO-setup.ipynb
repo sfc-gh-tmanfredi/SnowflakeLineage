{
 "metadata": {
  "kernelspec": {
   "display_name": "Streamlit Notebook",
   "name": "streamlit"
  },
  "lastEditStatus": {
   "notebookId": "soasqvg6euhdqtuniud7",
   "authorId": "67158795500",
   "authorName": "TMANFREDI",
   "authorEmail": "tom.manfredi@snowflake.com",
   "sessionId": "ebcd487b-9955-40aa-b3e1-3c0b3713ea23",
   "lastEditTime": 1744047884311
  }
 },
 "nbformat_minor": 5,
 "nbformat": 4,
 "cells": [
  {
   "cell_type": "code",
   "id": "210f2b11-751b-4ea5-b52c-7360b1a79437",
   "metadata": {
    "language": "sql",
    "name": "cell11"
   },
   "outputs": [],
   "source": "USE ROLE ACCOUNTADMIN;\n-- Next create a new database and schema,\nCREATE OR REPLACE DATABASE ML_LINEAGE_DATABASE;\nCREATE OR REPLACE SCHEMA ML_LINEAGE_SCHEMA;\n",
   "execution_count": null
  },
  {
   "cell_type": "code",
   "id": "3775908f-ca36-4846-8f38-5adca39217f2",
   "metadata": {
    "language": "sql",
    "name": "cell1"
   },
   "source": "use schema ML_LINEAGE_DATABASE.ML_LINEAGE_SCHEMA;",
   "execution_count": null,
   "outputs": []
  },
  {
   "cell_type": "code",
   "id": "3e64b089-a46d-49e3-add7-388593729537",
   "metadata": {
    "language": "sql",
    "name": "cell7"
   },
   "outputs": [],
   "source": "create or replace stage LINEAGE_STAGE DIRECTORY=(enable=TRUE);",
   "execution_count": null
  },
  {
   "cell_type": "code",
   "id": "f02c7926-57be-4e5a-b872-2defdc8e7dd1",
   "metadata": {
    "language": "python",
    "name": "cell12"
   },
   "outputs": [],
   "source": "# Make sure snowflake-ml-python is included in \"Packages\" up top\nfrom snowflake.snowpark.context import get_active_session\nsession = get_active_session()\n\n# Add a query tag to the session. This helps with debugging and performance monitoring.\nsession.query_tag = {\"origin\":\"sf_sit-is\", \"name\":\"aiml_notebooks_lineage\", \"version\":{\"major\":1, \"minor\":0}, \"attributes\":{\"is_quickstart\":1, \"source\":\"notebook\"}}\n\nCURRENT_DB = session.get_current_database()\nCURRENT_SCHEMA = session.get_current_schema()",
   "execution_count": null
  },
  {
   "cell_type": "code",
   "id": "7b0f9929-88c9-4c73-86fb-866b761c1023",
   "metadata": {
    "language": "python",
    "name": "cell13",
    "codeCollapsed": false
   },
   "outputs": [],
   "source": "# creates \n# external stage: FEATURE_STORE_TEMP_STAGE\n# table: winedata (populated w/1.6K rows) \n# file format: FEATURE_STORE_TEMP_FORMAT\nfrom snowflake.ml.feature_store.examples.example_helper import ExampleHelper\n\nexample_helper = ExampleHelper(session, CURRENT_DB, CURRENT_SCHEMA)\nsource_tables = example_helper.load_example('wine_quality_features')",
   "execution_count": null
  },
  {
   "cell_type": "code",
   "id": "8d50cbf4-0c8d-4950-86cb-114990437ac9",
   "metadata": {
    "language": "sql",
    "name": "cell2",
    "codeCollapsed": false
   },
   "source": "-- should be 1,599\nselect count(distinct wine_id) from winedata;",
   "execution_count": null,
   "outputs": []
  },
  {
   "cell_type": "code",
   "id": "c695373e-ac74-4b62-a1f1-08206cbd5c81",
   "metadata": {
    "language": "sql",
    "name": "cell3"
   },
   "source": "create or replace temporary table wine_attributes_tmp as\nselect \nseq4() as wine_id,\ncase \nwhen wine_id between 0 and 999 then 'Red' \nwhen wine_id between 1000 and 1299 then 'White'\nwhen wine_id > 1299 then 'Rose'\nend as wine_color, \nuniform(1, 10, RANDOM(12)) as CountryId,\nuniform(1, 50, RANDOM(12)) as RegionId,\nuniform(2005, 2024, RANDOM(12)) as VintageYear\n\nFROM TABLE(GENERATOR(ROWCOUNT => 1599));\n\ncreate or replace table wine_attributes \n(c1 variant);\n    -- like wine_attributes_tmp;",
   "execution_count": null,
   "outputs": []
  },
  {
   "cell_type": "code",
   "id": "f115fbdb-0d1e-41d7-97f6-8444efd6d37f",
   "metadata": {
    "language": "sql",
    "name": "cell8"
   },
   "outputs": [],
   "source": "COPY INTO @LINEAGE_STAGE\nFROM wine_attributes_tmp\n  FILE_FORMAT=(TYPE=parquet);",
   "execution_count": null
  },
  {
   "cell_type": "code",
   "id": "7ea4bdca-d849-4eb5-b2cc-a8e6578f2115",
   "metadata": {
    "language": "sql",
    "name": "cell4"
   },
   "outputs": [],
   "source": "",
   "execution_count": null
  }
 ]
}